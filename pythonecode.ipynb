{
 "cells": [
  {
   "cell_type": "code",
   "execution_count": null,
   "id": "62e6ed62",
   "metadata": {},
   "outputs": [],
   "source": [
    " Step 1: Install Required Libraries\n",
    "import pandas as pd\n",
    "from sklearn.ensemble import RandomForestClassifier\n",
    "from sklearn.model_selection import train_test_split\n",
    "import joblib\n",
    "\n",
    "# Step 2: Load and Preprocess Traffic Data\n",
    "data = pd.read_csv(\"structured_logs.csv\")\n",
    "\n",
    "# Define features (time of request, request rate)\n",
    "X = data[['hour_of_day', 'requests_per_second']]\n",
    "y = data['high_traffic']  # 1 = High traffic, 0 = Normal traffic\n",
    "\n",
    "# Step 3: Split Data for Training and Testing\n",
    "X_train, X_test, y_train, y_test = train_test_split(X, y, test_size=0.2, random_state=42)\n",
    "\n",
    "# Step 4: Train AI Model\n",
    "model = RandomForestClassifier(n_estimators=100, random_state=42)\n",
    "model.fit(X_train, y_train)\n",
    "\n",
    "# Step 5: Save the Trained AI Model\n",
    "joblib.dump(model, \"traffic_model.pkl\")\n",
    "print(\"✅ AI Model Trained & Saved!\")\n",
    "\n",
    "# Step 6: Function to Predict Traffic Levels\n",
    "def predict_traffic(hour, requests_per_second):\n",
    "    model = joblib.load(\"traffic_model.pkl\")\n",
    "    prediction = model.predict([[hour, requests_per_second]])\n",
    "    return \"High Traffic\" if prediction[0] == 1 else \"Normal Traffic\"\n",
    "\n",
    "# Step 7: Test Prediction\n",
    "if _name_ == \"_main_\":\n",
    "    test_hour = 14  # Example input (2 PM)\n",
    "    test_requests = 1200  # Example traffic load\n",
    "    result = predict_traffic(test_hour, test_requests)\n",
    "    print(f\"Predicted Traffic Status: {result}\")"
   ]
  }
 ],
 "metadata": {
  "kernelspec": {
   "display_name": "Python 3 (ipykernel)",
   "language": "python",
   "name": "python3"
  },
  "language_info": {
   "codemirror_mode": {
    "name": "ipython",
    "version": 3
   },
   "file_extension": ".py",
   "mimetype": "text/x-python",
   "name": "python",
   "nbconvert_exporter": "python",
   "pygments_lexer": "ipython3",
   "version": "3.9.13"
  }
 },
 "nbformat": 4,
 "nbformat_minor": 5
}
